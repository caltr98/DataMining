version https://git-lfs.github.com/spec/v1
oid sha256:6801c0eb2fd0b82c34cca0d20a5f1bd41f5ae4ddfc57fefc0cbb85e1e2e23c11
size 26725985
